{
 "cells": [
  {
   "cell_type": "markdown",
   "id": "299f1045",
   "metadata": {},
   "source": [
    "<h1>Quiz 1 - CMSC 197 Machine Learning</h1>\n",
    "<h2>Hannah Bella C. Arceño</h2>"
   ]
  },
  {
   "cell_type": "markdown",
   "id": "f93298e4",
   "metadata": {},
   "source": [
    "<h2>Import modules</h2>"
   ]
  },
  {
   "cell_type": "code",
   "execution_count": 1,
   "id": "4c57b50b",
   "metadata": {},
   "outputs": [],
   "source": [
    "# Import modules\n",
    "import numpy as np\n",
    "import math"
   ]
  },
  {
   "cell_type": "markdown",
   "id": "02a57e9b",
   "metadata": {},
   "source": [
    "<h1 style='color: blue'>Part 1</h1>"
   ]
  },
  {
   "cell_type": "markdown",
   "id": "d53ef91c",
   "metadata": {},
   "source": [
    "<h2>1. Creation and initialization of 'y_hat' and 'y' arrays</h2>"
   ]
  },
  {
   "cell_type": "code",
   "execution_count": 2,
   "id": "0fee91f8",
   "metadata": {},
   "outputs": [],
   "source": [
    "y_hat = np.linspace(-1, 1, 20, endpoint=True)\n",
    "y = np.linspace(0, 1, 20, endpoint=True)"
   ]
  },
  {
   "cell_type": "code",
   "execution_count": 3,
   "id": "97e5ea58",
   "metadata": {},
   "outputs": [
    {
     "data": {
      "text/plain": [
       "array([-1.        , -0.89473684, -0.78947368, -0.68421053, -0.57894737,\n",
       "       -0.47368421, -0.36842105, -0.26315789, -0.15789474, -0.05263158,\n",
       "        0.05263158,  0.15789474,  0.26315789,  0.36842105,  0.47368421,\n",
       "        0.57894737,  0.68421053,  0.78947368,  0.89473684,  1.        ])"
      ]
     },
     "execution_count": 3,
     "metadata": {},
     "output_type": "execute_result"
    }
   ],
   "source": [
    "y_hat # Display y_hat array"
   ]
  },
  {
   "cell_type": "code",
   "execution_count": 4,
   "id": "4cf64b6e",
   "metadata": {},
   "outputs": [
    {
     "data": {
      "text/plain": [
       "array([0.        , 0.05263158, 0.10526316, 0.15789474, 0.21052632,\n",
       "       0.26315789, 0.31578947, 0.36842105, 0.42105263, 0.47368421,\n",
       "       0.52631579, 0.57894737, 0.63157895, 0.68421053, 0.73684211,\n",
       "       0.78947368, 0.84210526, 0.89473684, 0.94736842, 1.        ])"
      ]
     },
     "execution_count": 4,
     "metadata": {},
     "output_type": "execute_result"
    }
   ],
   "source": [
    "y # Display y array"
   ]
  },
  {
   "cell_type": "markdown",
   "id": "205f768e",
   "metadata": {},
   "source": [
    "<h2>2. Shape and dimension of 'y_hat' and 'y'</h2>"
   ]
  },
  {
   "cell_type": "code",
   "execution_count": 5,
   "id": "593764a3",
   "metadata": {},
   "outputs": [
    {
     "name": "stdout",
     "output_type": "stream",
     "text": [
      "'y_hat' array\n",
      "shape:\t(20,) \n",
      "dimension:\t1\n"
     ]
    }
   ],
   "source": [
    "print(f\"'y_hat' array\\nshape:\\t{y_hat.shape} \\ndimension:\\t{y_hat.ndim}\")"
   ]
  },
  {
   "cell_type": "code",
   "execution_count": 6,
   "id": "1e9e4f53",
   "metadata": {},
   "outputs": [
    {
     "name": "stdout",
     "output_type": "stream",
     "text": [
      "'y' array\n",
      "shape:\t(20,) \n",
      "dimension:\t1\n"
     ]
    }
   ],
   "source": [
    "print(f\"'y' array\\nshape:\\t{y.shape} \\ndimension:\\t{y.ndim}\")"
   ]
  },
  {
   "cell_type": "markdown",
   "id": "405d261f",
   "metadata": {},
   "source": [
    "<h2>3. Loss Functions</h2>"
   ]
  },
  {
   "cell_type": "markdown",
   "id": "5ba78a03",
   "metadata": {},
   "source": [
    "<h3>Mean Square Error (MSE)</h3>"
   ]
  },
  {
   "cell_type": "code",
   "execution_count": 7,
   "id": "c1316bfb",
   "metadata": {},
   "outputs": [
    {
     "name": "stdout",
     "output_type": "stream",
     "text": [
      "L =  0.34210526315789475\n"
     ]
    }
   ],
   "source": [
    "def get_mean_square_error(y_hat, y):\n",
    "    n =  min(y_hat.shape[0], y.shape[0])\n",
    "    square_err = 0\n",
    "    \n",
    "    for i in range(n):\n",
    "        square_err += (y_hat[i] - y[i])**2\n",
    "        \n",
    "    return square_err/n\n",
    "\n",
    "\n",
    "print('L = ', get_mean_square_error(y_hat, y))"
   ]
  },
  {
   "cell_type": "markdown",
   "id": "d09311ef",
   "metadata": {},
   "source": [
    "<h3>Mean Absolute Error (MAE)</h3>"
   ]
  },
  {
   "cell_type": "code",
   "execution_count": 8,
   "id": "5e52bf39",
   "metadata": {},
   "outputs": [
    {
     "name": "stdout",
     "output_type": "stream",
     "text": [
      "L =  0.5000000000000001\n"
     ]
    }
   ],
   "source": [
    "def get_mean_absolute_error(y_hat, y):\n",
    "    n =  min(y_hat.shape[0], y.shape[0])\n",
    "    absolute_err = 0\n",
    "    \n",
    "    for i in range(n):\n",
    "        absolute_err += abs(y_hat[i] - y[i])\n",
    "        \n",
    "    return absolute_err/n\n",
    "\n",
    "\n",
    "print('L = ', get_mean_absolute_error(y_hat, y))"
   ]
  },
  {
   "cell_type": "markdown",
   "id": "67a2a8a4",
   "metadata": {},
   "source": [
    "<h3>Mean Squared Logarithmic Error (MSLE)</h3>"
   ]
  },
  {
   "cell_type": "code",
   "execution_count": 9,
   "id": "f6abb164",
   "metadata": {},
   "outputs": [
    {
     "name": "stdout",
     "output_type": "stream",
     "text": [
      "L =  undefined\n"
     ]
    }
   ],
   "source": [
    "def get_mean_squared_logarithmic_error(y_hat, y):\n",
    "    n =  min(y_hat.shape[0], y.shape[0])\n",
    "    squared_logarithmic_err = 0\n",
    "    \n",
    "    for i in range(n):\n",
    "        try: \n",
    "            squared_logarithmic_err += (math.log(y_hat[i] + 1) - math.log(y[i] + 1))**2\n",
    "            \n",
    "        except ValueError:\n",
    "            return \"undefined\" # When a 'y_hat' or 'y' value is negative or zero value\n",
    "            # We cannot calculate natural log. of a negative or zero-valued number\n",
    "        \n",
    "    return squared_logarithmic_err/n\n",
    "\n",
    "\n",
    "print('L = ', get_mean_squared_logarithmic_error(y_hat, y))"
   ]
  },
  {
   "cell_type": "markdown",
   "id": "0c5a5d6c",
   "metadata": {},
   "source": [
    "<h3>Mean Absolute Percentage Error (MAPE)</h3>"
   ]
  },
  {
   "cell_type": "code",
   "execution_count": 10,
   "id": "d6b19689",
   "metadata": {},
   "outputs": [
    {
     "name": "stdout",
     "output_type": "stream",
     "text": [
      "L (in %)=  inf\n"
     ]
    },
    {
     "name": "stderr",
     "output_type": "stream",
     "text": [
      "C:\\Users\\User\\AppData\\Local\\Temp\\ipykernel_1396\\3356021675.py:7: RuntimeWarning: divide by zero encountered in double_scalars\n",
      "  absolute_err += abs((y_hat[i] - y[i])/y[i])\n"
     ]
    }
   ],
   "source": [
    "def get_mean_absolute_percentage_error(y_hat, y):\n",
    "    n =  min(y_hat.shape[0], y.shape[0])\n",
    "    absolute_err = 0\n",
    "    \n",
    "    for i in range(n):\n",
    "        try:\n",
    "            absolute_err += abs((y_hat[i] - y[i])/y[i]) \n",
    "            \n",
    "        except:\n",
    "            return \"undefined\" # MAPE cannot be calculated if a 'y' value is zero (0).\n",
    "        \n",
    "    return (absolute_err/n) * 100\n",
    "\n",
    "\n",
    "print('L (in %)= ', get_mean_absolute_percentage_error(y_hat, y))"
   ]
  },
  {
   "cell_type": "markdown",
   "id": "b422cd2f",
   "metadata": {},
   "source": [
    "<h1 style='color: blue'>Part 2</h1>"
   ]
  },
  {
   "cell_type": "markdown",
   "id": "9770e485",
   "metadata": {},
   "source": [
    "<h2>1. Create a 1d array M {1, 2, …16} using the arange function</h2>"
   ]
  },
  {
   "cell_type": "code",
   "execution_count": 11,
   "id": "d5f5b845",
   "metadata": {},
   "outputs": [
    {
     "data": {
      "text/plain": [
       "array([ 1,  2,  3,  4,  5,  6,  7,  8,  9, 10, 11, 12, 13, 14, 15, 16])"
      ]
     },
     "execution_count": 11,
     "metadata": {},
     "output_type": "execute_result"
    }
   ],
   "source": [
    "M = np.arange(1, 17)\n",
    "M # Display M"
   ]
  },
  {
   "cell_type": "markdown",
   "id": "8add9f97",
   "metadata": {},
   "source": [
    "<h2>2. Reshape M into 4x4 array and store it to N</h2>"
   ]
  },
  {
   "cell_type": "code",
   "execution_count": 12,
   "id": "f35971f0",
   "metadata": {},
   "outputs": [
    {
     "data": {
      "text/plain": [
       "array([[ 1,  2,  3,  4],\n",
       "       [ 5,  6,  7,  8],\n",
       "       [ 9, 10, 11, 12],\n",
       "       [13, 14, 15, 16]])"
      ]
     },
     "execution_count": 12,
     "metadata": {},
     "output_type": "execute_result"
    }
   ],
   "source": [
    "N = M.reshape(4,4)\n",
    "N # Display 2d array N"
   ]
  },
  {
   "cell_type": "markdown",
   "id": "ef686e73",
   "metadata": {},
   "source": [
    "<h2>3. Get the 2nd row of N</h2>"
   ]
  },
  {
   "cell_type": "code",
   "execution_count": 13,
   "id": "39450d64",
   "metadata": {},
   "outputs": [
    {
     "data": {
      "text/plain": [
       "array([5, 6, 7, 8])"
      ]
     },
     "execution_count": 13,
     "metadata": {},
     "output_type": "execute_result"
    }
   ],
   "source": [
    "N[1]"
   ]
  },
  {
   "cell_type": "markdown",
   "id": "a8f3daa7",
   "metadata": {},
   "source": [
    "<h2>4. Get the minimum values for each column of N</h2>"
   ]
  },
  {
   "cell_type": "code",
   "execution_count": 14,
   "id": "3bc40beb",
   "metadata": {},
   "outputs": [
    {
     "data": {
      "text/plain": [
       "array([1, 2, 3, 4])"
      ]
     },
     "execution_count": 14,
     "metadata": {},
     "output_type": "execute_result"
    }
   ],
   "source": [
    "np.min(N, axis=0)"
   ]
  },
  {
   "cell_type": "markdown",
   "id": "42eda3e5",
   "metadata": {},
   "source": [
    "<h2>5. Get the locations of the minimum values for each column of N</h2>"
   ]
  },
  {
   "cell_type": "code",
   "execution_count": 15,
   "id": "03f8d886",
   "metadata": {},
   "outputs": [
    {
     "data": {
      "text/plain": [
       "array([0, 0, 0, 0], dtype=int64)"
      ]
     },
     "execution_count": 15,
     "metadata": {},
     "output_type": "execute_result"
    }
   ],
   "source": [
    "np.argmin(N, axis=0) # Location in each column"
   ]
  },
  {
   "cell_type": "code",
   "execution_count": 16,
   "id": "28ed8751",
   "metadata": {},
   "outputs": [
    {
     "data": {
      "text/plain": [
       "[(0, 0), (0, 1), (0, 2), (0, 3)]"
      ]
     },
     "execution_count": 16,
     "metadata": {},
     "output_type": "execute_result"
    }
   ],
   "source": [
    "# Another solution: Location coordinates (in the matrix) of the minimum values for each column of N\n",
    "\n",
    "col_min = np.min(N, axis = 0) # Array containing minimum values for each column of N\n",
    "location_min = [] # Array that will contain index location of minimum values for each column of N\n",
    "\n",
    "location_coordinates = [] # Location of minimum values in the matrix\n",
    "\n",
    "for i in range(col_min.size):\n",
    "    location_min.append(np.where(N == col_min[i]))\n",
    "    \n",
    "for i in range(len(location_min)):\n",
    "    location_coordinates.append((location_min[i][0][0], location_min[i][1][0]))\n",
    "    \n",
    "location_coordinates"
   ]
  },
  {
   "cell_type": "markdown",
   "id": "f8d4fec4",
   "metadata": {},
   "source": [
    "<h2>6. Get the average of the whole matrix</h2>"
   ]
  },
  {
   "cell_type": "code",
   "execution_count": 17,
   "id": "73e50ec2",
   "metadata": {},
   "outputs": [
    {
     "data": {
      "text/plain": [
       "8.5"
      ]
     },
     "execution_count": 17,
     "metadata": {},
     "output_type": "execute_result"
    }
   ],
   "source": [
    "np.mean(N)"
   ]
  },
  {
   "cell_type": "markdown",
   "id": "f527df05",
   "metadata": {},
   "source": [
    "<h2>7. Create a vector V with 4 elements, each element is 1</h2>"
   ]
  },
  {
   "cell_type": "code",
   "execution_count": 18,
   "id": "3bc5a5ee",
   "metadata": {},
   "outputs": [
    {
     "data": {
      "text/plain": [
       "array([1, 1, 1, 1])"
      ]
     },
     "execution_count": 18,
     "metadata": {},
     "output_type": "execute_result"
    }
   ],
   "source": [
    "V = np.ones((4), dtype='int32')\n",
    "V"
   ]
  },
  {
   "cell_type": "markdown",
   "id": "39754d97",
   "metadata": {},
   "source": [
    "<h2>8. Take the dot product of N and V</h2>"
   ]
  },
  {
   "cell_type": "code",
   "execution_count": 19,
   "id": "cb879f10",
   "metadata": {},
   "outputs": [
    {
     "data": {
      "text/plain": [
       "array([10, 26, 42, 58])"
      ]
     },
     "execution_count": 19,
     "metadata": {},
     "output_type": "execute_result"
    }
   ],
   "source": [
    "np.dot(N,V)"
   ]
  }
 ],
 "metadata": {
  "kernelspec": {
   "display_name": "Python 3 (ipykernel)",
   "language": "python",
   "name": "python3"
  },
  "language_info": {
   "codemirror_mode": {
    "name": "ipython",
    "version": 3
   },
   "file_extension": ".py",
   "mimetype": "text/x-python",
   "name": "python",
   "nbconvert_exporter": "python",
   "pygments_lexer": "ipython3",
   "version": "3.9.12"
  }
 },
 "nbformat": 4,
 "nbformat_minor": 5
}
