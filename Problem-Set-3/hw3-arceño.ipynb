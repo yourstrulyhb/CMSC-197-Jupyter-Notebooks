{
 "cells": [
  {
   "cell_type": "markdown",
   "id": "0083def2",
   "metadata": {},
   "source": [
    "# CMSC 197 Machine Learning\n",
    "### Problem Set 3 - Hannah Bella C. Arceño"
   ]
  },
  {
   "cell_type": "code",
   "execution_count": 1,
   "id": "b177a8fb",
   "metadata": {},
   "outputs": [],
   "source": [
    "##### Standard Libraries #####\n",
    "import numpy as np\n",
    "import pandas as pd\n",
    "import matplotlib.pyplot as plt\n",
    "import seaborn as sns\n",
    "sns.set_style(\"whitegrid\")\n",
    "sns.set_context(\"poster\")\n",
    "\n",
    "%matplotlib inline\n",
    "\n",
    "##### For Preprocessing #####\n",
    "from sklearn.model_selection import train_test_split\n",
    "from sklearn import preprocessing\n",
    "\n",
    "##### For Validation of the Model #####\n",
    "from sklearn.metrics import r2_score, mean_absolute_error, mean_squared_error\n",
    "from sklearn.model_selection import cross_val_score"
   ]
  },
  {
   "cell_type": "markdown",
   "id": "923ed060",
   "metadata": {},
   "source": [
    "# 1. Preparing data sets"
   ]
  },
  {
   "cell_type": "code",
   "execution_count": 2,
   "id": "9d64cf48",
   "metadata": {},
   "outputs": [
    {
     "name": "stdout",
     "output_type": "stream",
     "text": [
      "         TV     Radio  Newspaper     Sales\n",
      "0  0.967425  0.979066   1.774493  1.548168\n",
      "1 -1.194379  1.080097   0.667903 -0.694304\n",
      "2 -1.512360  1.524637   1.779084 -0.905135\n",
      "3  0.051919  1.214806   1.283185  0.858177\n",
      "4  0.393196 -0.839507   1.278593 -0.215143 (200, 4)\n"
     ]
    }
   ],
   "source": [
    "#1. Load Advertising.csv dataset using pandas\n",
    "data = pd.read_csv(\"Advertising.csv\")\n",
    "data = data.drop(\"Unnamed: 0\", axis=1) # Remove unnecessary column\n",
    "\n",
    "#2. Standardize each column of the dataset\n",
    "init_mean = []\n",
    "init_std = []\n",
    "for col in data:\n",
    "    col_mean = data[col].mean() # Get column mean and std\n",
    "    col_std = data[col].std()\n",
    "    \n",
    "    init_mean.append(col_mean)\n",
    "    init_std.append(col_std)\n",
    "    \n",
    "    data[col] = (data[col] - col_mean)/col_std # Update columns with standardized values\n",
    "\n",
    "print(data.head(), data.shape)"
   ]
  },
  {
   "cell_type": "code",
   "execution_count": 3,
   "id": "a41afe0c",
   "metadata": {
    "scrolled": true
   },
   "outputs": [
    {
     "name": "stdout",
     "output_type": "stream",
     "text": [
      "x_train\n",
      "      bias        TV     Radio  Newspaper\n",
      "50      1  0.614501 -1.358137   0.185779\n",
      "109     1  1.262110  0.244901  -1.150394\n",
      "72      1 -1.400542  0.655764  -0.516745\n",
      "121     1 -1.493724 -0.105343   0.911261\n",
      "28      1  1.185236  0.258372  -0.351446 (150, 4)\n",
      "\n",
      "y_train\n",
      " 50    -0.502640\n",
      "109    1.107340\n",
      "72    -1.000967\n",
      "121   -1.345962\n",
      "28     0.934842\n",
      "Name: Sales, dtype: float64 (150,)\n",
      "\n",
      "x_test\n",
      "      bias        TV     Radio  Newspaper\n",
      "48      1  0.933646 -0.502734   0.888302\n",
      "180     1  0.111322 -1.391814  -1.021828\n",
      "57      1 -0.126290 -0.273729  -0.640720\n",
      "184     1  1.243474 -0.132284  -0.025438\n",
      "74      1  0.772909  0.089986  -0.801428 (50, 4)\n",
      "\n",
      "y_test\n",
      " 48     0.149019\n",
      "180   -0.675137\n",
      "57    -0.157644\n",
      "184    0.685679\n",
      "74     0.570680\n",
      "Name: Sales, dtype: float64 (50,)\n"
     ]
    }
   ],
   "source": [
    "#3. Add an extra column composing of all ones to X\n",
    "x_data = data.drop(\"Sales\", axis=1) # Separate X and Y data\n",
    "x_data.insert(0,'bias',[1]*len(x_data))\n",
    "\n",
    "y_data = data[\"Sales\"]\n",
    "\n",
    "#4. Divide the dataset into training and testing, with 0.85 and 0.25 ratio, respectively.\n",
    "x_train, x_test, y_train, y_test = train_test_split(x_data, y_data, train_size=0.75, test_size=0.25)\n",
    "# Used 0.75 as 0.85 causes error\n",
    "\n",
    "print(\"x_train\\n\", x_train.head(), x_train.shape) \n",
    "print(\"\\ny_train\\n\", y_train.head(), y_train.shape) \n",
    "print(\"\\nx_test\\n\", x_test.head(), x_test.shape) \n",
    "print(\"\\ny_test\\n\", y_test.head(), y_test.shape) "
   ]
  },
  {
   "cell_type": "markdown",
   "id": "86390b5f",
   "metadata": {},
   "source": [
    "# 2. Building the model"
   ]
  },
  {
   "cell_type": "markdown",
   "id": "2db181ff",
   "metadata": {},
   "source": [
    "## 2.1 Gradient Descent Functions"
   ]
  },
  {
   "cell_type": "code",
   "execution_count": 4,
   "id": "0bff70fc",
   "metadata": {},
   "outputs": [],
   "source": [
    "#5. Fit the model on the training set.\n",
    "# Optimize the model using the  training set, and not including the test set\n",
    "\n",
    "def initialize_weights():\n",
    "    init_w = np.array([0.0, 0.0, 0.0, 0.0])\n",
    "    return init_w\n",
    "\n",
    "# GRADIENT DESCENT SUB-FUNCTIONS\n",
    "def predict(x, theta):\n",
    "    y_predict = np.dot(x, theta)\n",
    "    return y_predict\n",
    "\n",
    "def compute_cost(y, y_hat):\n",
    "    m = y.size\n",
    "    SSE = np.sum((y_hat - y)**2)\n",
    "    return SSE/(2*m)\n",
    "    \n",
    "def compute_gradient(x, y, y_hat):\n",
    "    w = np.dot(x.T, (y_hat - y))\n",
    "    return w\n",
    "\n",
    "def update_weights(w, lr, gradient):\n",
    "    update_w = w\n",
    "    for i in range(len(w)):\n",
    "        update_w[i] = w[i] - (lr * gradient[i])\n",
    "    \n",
    "    return update_w\n",
    "\n",
    "### GRADIENT DESCENT\n",
    "def grad_descent(w, x, y, iterations=1000, lr=0.0001):\n",
    "    \n",
    "    m = y.size\n",
    "    costs = []\n",
    "    for _ in range(iterations):\n",
    "        p = predict(x=x, theta=w)\n",
    "        cost = compute_cost(y=y, y_hat=p)\n",
    "        costs.append(cost)\n",
    "        gradients = compute_gradient(x=x, y=y, y_hat=p)\n",
    "        w = update_weights(w=w, lr=lr, gradient=gradients)\n",
    "        \n",
    "    return w, costs\n",
    "    \n",
    "\n",
    "### Visualize costs over iterations\n",
    "def plot_costs(costs):\n",
    "    x = [i for i in range(len(costs))]\n",
    "    plt.figure(figsize=(15, 5))\n",
    "    plt.scatter(x=x, y=costs, linewidths=0.5)\n",
    "    plt.show()\n"
   ]
  },
  {
   "cell_type": "markdown",
   "id": "00f2cf06",
   "metadata": {},
   "source": [
    "## 2.2 Gradient Descent with Training Dataset"
   ]
  },
  {
   "cell_type": "code",
   "execution_count": 5,
   "id": "b42f76be",
   "metadata": {
    "scrolled": true
   },
   "outputs": [
    {
     "data": {
      "image/png": "[encoded data removed]",
      "text/plain": [
       "<Figure size 1080x360 with 1 Axes>"
      ]
     },
     "metadata": {
      "needs_background": "light"
     },
     "output_type": "display_data"
    }
   ],
   "source": [
    "# Define number of iterations and learning rate\n",
    "epochs = 1000\n",
    "learn_rate = 0.0001\n",
    "\n",
    "init_weights = initialize_weights()\n",
    "\n",
    "w, costs = grad_descent(w=init_weights, x=x_train, y=y_train, iterations=epochs, lr=learn_rate)\n",
    "# Returned w are optimized weights\n",
    "\n",
    "plot_costs(costs)"
   ]
  },
  {
   "cell_type": "code",
   "execution_count": 6,
   "id": "46ebaf8b",
   "metadata": {},
   "outputs": [],
   "source": [
    "# For comparing with OLS\n",
    "beta = np.dot(np.dot(np.linalg.inv(np.dot(x_train.T,x_train)),x_train.T),y_train)"
   ]
  },
  {
   "cell_type": "markdown",
   "id": "294cb924",
   "metadata": {},
   "source": [
    "\n",
    "# 3. Predicting Y values and Evaluating Performance"
   ]
  },
  {
   "cell_type": "markdown",
   "id": "934cfa26",
   "metadata": {},
   "source": [
    "## 3.1 Predicting Y on Train Set"
   ]
  },
  {
   "cell_type": "code",
   "execution_count": 7,
   "id": "b9936771",
   "metadata": {},
   "outputs": [
    {
     "data": {
      "text/plain": [
       "array([-0.31386815,  1.08333834, -0.6496842 , -1.15289848,  1.03579457,\n",
       "        0.55849624,  1.07533651, -0.10945877,  1.15202803, -0.32000129,\n",
       "       -0.39655862,  1.03547244, -1.02402287,  1.41028045,  0.24406265,\n",
       "        0.17489565,  1.51573203,  1.47178881,  0.40001054, -0.59000898,\n",
       "       -0.06438605,  0.79900493, -1.12642646, -0.46562279, -0.22879193,\n",
       "       -0.42884407, -0.17756508,  0.12747385,  1.58003443,  1.37520552,\n",
       "       -0.34173553,  0.33769868, -2.00357185, -0.86758128,  0.27670563,\n",
       "       -0.12804459,  0.62360154, -0.94451788,  0.79980344,  1.4641775 ,\n",
       "        0.95191656, -0.99964958, -1.20447763, -0.81110292,  0.90366334,\n",
       "       -1.45140696, -0.15294744,  1.98978967,  0.85661779, -0.43177283,\n",
       "        0.24156886,  1.97891165,  1.91611406,  0.06978162, -1.00526662,\n",
       "       -0.62657358, -1.52761613,  0.45186049,  0.16730866,  0.62022937,\n",
       "       -0.3146299 ,  0.59994868,  0.844016  ,  1.74993276, -0.87300579,\n",
       "       -0.57974064, -0.40373788,  0.44670846, -2.02828257, -1.37081643,\n",
       "       -0.94860022, -1.26047989, -0.30894494,  0.15522892,  0.07620254,\n",
       "       -0.77381246, -1.15682911,  0.20721477,  0.32856557,  1.22133798,\n",
       "        1.83668281, -0.75145045,  0.09981139,  0.90385111, -0.43611809,\n",
       "       -0.17370069, -0.01664709, -0.33444528,  0.74428868, -0.39243544,\n",
       "       -1.0342239 , -0.50929456,  0.1095291 ,  0.08654538,  1.44318434,\n",
       "        0.64865866,  0.61572932,  1.3542985 , -0.93569802,  1.42207773,\n",
       "        1.22071421, -0.72174146,  1.80335224,  0.82989503,  1.26741263,\n",
       "        1.80913435,  0.03073914,  1.34763093, -1.61857394,  0.37148199,\n",
       "        2.12303896, -0.76788842, -1.21097646,  1.02923677,  0.2239804 ,\n",
       "       -0.07126041, -0.4047695 , -1.36271895, -1.27764926, -0.7846053 ,\n",
       "       -1.42560538, -0.7867077 ,  0.50558583, -0.27313571, -1.6744247 ,\n",
       "        0.03684277,  0.46483488, -1.85145596,  1.83616984,  1.29280938,\n",
       "        0.07164308, -1.84926121, -0.82036022, -0.14832035,  0.50586303,\n",
       "       -0.92782653,  0.50892425, -0.04840456,  0.7497764 , -0.04873602,\n",
       "        0.3169689 , -0.75378018, -1.08995897, -0.38711542,  0.62924986,\n",
       "        0.22343181, -0.95496057,  0.64116276, -0.36376067, -1.6853798 ])"
      ]
     },
     "execution_count": 7,
     "metadata": {},
     "output_type": "execute_result"
    }
   ],
   "source": [
    "#6. Predict the quantitative response y on the train set. Evaluate performance. \n",
    "y_train_pred = predict(x_train, w)\n",
    "y_train_pred"
   ]
  },
  {
   "cell_type": "markdown",
   "id": "91d70059",
   "metadata": {},
   "source": [
    "\n",
    "\n",
    "## 3.2 Predicting Y on Test Set"
   ]
  },
  {
   "cell_type": "code",
   "execution_count": 8,
   "id": "0294202b",
   "metadata": {},
   "outputs": [
    {
     "data": {
      "text/plain": [
       "array([ 4.14986136e-01, -7.07968285e-01, -2.40871969e-01,  8.55175556e-01,\n",
       "        6.33074080e-01,  1.20739281e+00, -1.51528923e+00,  1.63552308e+00,\n",
       "       -2.71441474e-01,  8.01405447e-01, -3.09538269e-02, -1.46694349e+00,\n",
       "       -1.27935963e+00,  1.32287087e+00, -9.21991895e-01, -1.17715811e+00,\n",
       "       -2.28128194e-01,  1.39628488e+00,  1.32342700e+00, -5.82321189e-01,\n",
       "        1.13298900e+00, -6.90777208e-01, -6.56569598e-01, -8.75469750e-01,\n",
       "       -6.20298098e-01, -8.15390971e-01,  7.01955380e-01,  4.45364960e-01,\n",
       "       -1.85820199e+00, -2.51042984e-01,  1.43791253e-03,  8.86831630e-01,\n",
       "       -8.59240357e-01,  8.77029125e-01, -1.13296264e+00,  3.59108279e-01,\n",
       "        1.01865406e+00,  2.42841571e-01,  6.74414207e-01, -1.36613568e+00,\n",
       "       -5.48233151e-01, -1.03382178e+00,  2.48994720e-01, -1.85474478e-01,\n",
       "       -3.43279340e-01,  4.75727037e-01,  6.62127683e-01, -1.34122271e-01,\n",
       "        1.93557086e-01, -1.46823167e+00])"
      ]
     },
     "execution_count": 8,
     "metadata": {},
     "output_type": "execute_result"
    }
   ],
   "source": [
    "#7. Predict the quantitative response y on the test set. Evaluate performance.\n",
    "y_test_pred = predict(x_test, w)\n",
    "y_test_pred"
   ]
  },
  {
   "cell_type": "markdown",
   "id": "f7b92c33",
   "metadata": {},
   "source": [
    "## Reverting y_train and y_test to initial scale"
   ]
  },
  {
   "cell_type": "code",
   "execution_count": 9,
   "id": "eee6a037",
   "metadata": {},
   "outputs": [],
   "source": [
    "#8. Reverting y_train and y_test to initial scale\n",
    "rvrt_y_train = y_train * init_std[3] + init_mean[3] \n",
    "rvrt_y_train_pred = y_train_pred * init_std[3] + init_mean[3] \n",
    "\n",
    "rvrt_y_test = y_test * init_std[3] + init_mean[3]\n",
    "rvrt_y_test_pred = y_test_pred * init_std[3] + init_mean[3]"
   ]
  },
  {
   "cell_type": "markdown",
   "id": "b5e2ca9c",
   "metadata": {},
   "source": [
    "## Evaluating Performance (using reverted datasets)"
   ]
  },
  {
   "cell_type": "code",
   "execution_count": 28,
   "id": "ebb943a9",
   "metadata": {},
   "outputs": [
    {
     "name": "stdout",
     "output_type": "stream",
     "text": [
      "Train MSE, R2, Cost\n",
      " 2.0960037699591267 0.9253598010799855 1.0480018849795634\n",
      "\n",
      "Test MSE, R2, Cost\n",
      " 5.051713773841149 0.7857809442014609 2.5258568869205744\n"
     ]
    }
   ],
   "source": [
    "#Evaluate performance on training data\n",
    "train_mse = mean_squared_error(rvrt_y_train, rvrt_y_train_pred) #= 2*training_cost\n",
    "train_r2 = r2_score(rvrt_y_train, rvrt_y_train_pred)\n",
    "train_cost = compute_cost(y=rvrt_y_train, y_hat=rvrt_y_train_pred)\n",
    "\n",
    "#Evaluate performance on testing data\n",
    "test_mse = mean_squared_error(rvrt_y_test, rvrt_y_test_pred) #= 2*testing_cost\n",
    "test_r2 = r2_score(rvrt_y_test, rvrt_y_test_pred)\n",
    "test_cost = compute_cost(y=rvrt_y_test, y_hat=rvrt_y_test_pred)\n",
    "\n",
    "print(\"Train MSE, R2, Cost\\n\", train_mse, train_r2, train_cost)\n",
    "print()\n",
    "print(\"Test MSE, R2, Cost\\n\", test_mse, test_r2, test_cost)"
   ]
  },
  {
   "cell_type": "markdown",
   "id": "7abc4416",
   "metadata": {},
   "source": [
    "# Cost results and analysis\n",
    "\n"
   ]
  },
  {
   "cell_type": "markdown",
   "id": "fab8a1f0",
   "metadata": {},
   "source": [
    "The <b>cost results</b> for the training and testing datasets are about 1.048 and 2.526, respectively. Meanwhile the <b>MSE</b> for training and testing datasets are about 2.096 and 5.052, respectively. Given the scale of the original data, these values signifiy that the the differences between actual y and predicted y values of the datasets are low, which means that the model fits with the data. \n",
    "\n",
    "However, it is observable that the testing dataset has a much larger cost than the training dataset. This denotes that the model fits the training data more than the testing data, which is reasonable as the model was fitted with the training data. This is supported by the <b>R2 scores</b> for training and testing datasets which are 0.925 and 0.786, respectively. Based on this, there may be a need to use a different set of training data to train the model, or test out other testing datasets to see if the model is truly optimal or not. "
   ]
  },
  {
   "cell_type": "markdown",
   "id": "f9390e33",
   "metadata": {},
   "source": [
    "# ***\n",
    "# For Questions"
   ]
  },
  {
   "cell_type": "markdown",
   "id": "70926f10",
   "metadata": {},
   "source": [
    "## 1. Optimal Weights"
   ]
  },
  {
   "cell_type": "code",
   "execution_count": 11,
   "id": "7dcdd77c",
   "metadata": {},
   "outputs": [
    {
     "data": {
      "text/plain": [
       "array([0.01107608, 0.73996413, 0.57433511, 0.00200737])"
      ]
     },
     "execution_count": 11,
     "metadata": {},
     "output_type": "execute_result"
    }
   ],
   "source": [
    "# Optimal weights\n",
    "w"
   ]
  },
  {
   "cell_type": "markdown",
   "id": "0228f88b",
   "metadata": {},
   "source": [
    "## 2. Scatter Plots for y and y_hat"
   ]
  },
  {
   "cell_type": "markdown",
   "id": "2fca3abb",
   "metadata": {},
   "source": [
    "### 2.1 Scatter Plot for y and y_hat [Train Dataset]"
   ]
  },
  {
   "cell_type": "code",
   "execution_count": 12,
   "id": "e67931cb",
   "metadata": {
    "scrolled": true
   },
   "outputs": [
    {
     "data": {
      "image/png": "[encoded data removed]",
      "text/plain": [
       "<Figure size 432x288 with 1 Axes>"
      ]
     },
     "metadata": {
      "needs_background": "light"
     },
     "output_type": "display_data"
    }
   ],
   "source": [
    "plt.scatter(rvrt_y_train, rvrt_y_train_pred, c='steelblue')\n",
    "\n",
    "a, b = np.polyfit(rvrt_y_train, rvrt_y_train_pred, 1)\n",
    "plt.plot(rvrt_y_train, a*rvrt_y_train+b, color='red', linestyle='--', linewidth=1) \n",
    "\n",
    "plt.show()"
   ]
  },
  {
   "cell_type": "markdown",
   "id": "1f7e5b6c",
   "metadata": {},
   "source": [
    "### 2.2 Scatter Plot for y and y_hat [Test Dataset]"
   ]
  },
  {
   "cell_type": "code",
   "execution_count": 13,
   "id": "4ea0b931",
   "metadata": {},
   "outputs": [
    {
     "data": {
      "image/png": "[encoded data removed]",
      "text/plain": [
       "<Figure size 432x288 with 1 Axes>"
      ]
     },
     "metadata": {
      "needs_background": "light"
     },
     "output_type": "display_data"
    }
   ],
   "source": [
    "plt.scatter(rvrt_y_test, rvrt_y_test_pred)\n",
    "\n",
    "a, b = np.polyfit(rvrt_y_test, rvrt_y_test_pred, 1)\n",
    "plt.plot(rvrt_y_test, a*rvrt_y_test+b, color='red', linestyle='--', linewidth=1) \n",
    "\n",
    "plt.show()"
   ]
  },
  {
   "cell_type": "markdown",
   "id": "becc319d",
   "metadata": {},
   "source": [
    "### 2.3 R2 Scores"
   ]
  },
  {
   "cell_type": "code",
   "execution_count": 14,
   "id": "9ec89ca4",
   "metadata": {},
   "outputs": [
    {
     "name": "stdout",
     "output_type": "stream",
     "text": [
      "0.925359799835948 0.7857880877808919\n"
     ]
    }
   ],
   "source": [
    "train_r2 = r2_score(rvrt_y_train, rvrt_y_train_pred)\n",
    "test_r2 = r2_score(rvrt_y_test, rvrt_y_test_pred)\n",
    "\n",
    "print(train_r2, test_r2)"
   ]
  },
  {
   "cell_type": "markdown",
   "id": "28656fdb",
   "metadata": {},
   "source": [
    "## 3. Gradient Descent with varying number of iterations"
   ]
  },
  {
   "cell_type": "code",
   "execution_count": 15,
   "id": "751fb01b",
   "metadata": {},
   "outputs": [],
   "source": [
    "learn_rate = 0.0001"
   ]
  },
  {
   "cell_type": "code",
   "execution_count": 16,
   "id": "aa061212",
   "metadata": {},
   "outputs": [
    {
     "name": "stdout",
     "output_type": "stream",
     "text": [
      "EPOCHS =  100\n",
      "w =  [0.01729251 0.59893729 0.43655443 0.08331608]\n"
     ]
    },
    {
     "data": {
      "image/png": "[encoded data removed]",
      "text/plain": [
       "<Figure size 1080x360 with 1 Axes>"
      ]
     },
     "metadata": {
      "needs_background": "light"
     },
     "output_type": "display_data"
    },
    {
     "name": "stdout",
     "output_type": "stream",
     "text": [
      "Train MSE, R2, Cost\n",
      " 3.167955050092385 0.8871868464658481 1.5839775250461925\n",
      "\n",
      "Test MSE, R2, Cost\n",
      " 5.498171382315715 0.7668488091631025 2.7490856911578576\n"
     ]
    }
   ],
   "source": [
    "# Gradient Descent with 100 iterations\n",
    "epochs = 100\n",
    "init_weights = initialize_weights()\n",
    "w_100, costs_100 = grad_descent(w=init_weights, x=x_train, y=y_train, iterations=epochs, lr=learn_rate)\n",
    "\n",
    "# Predict Y using model in train and test datasets\n",
    "y_train_pred = predict(x_train, w_100)\n",
    "y_test_pred = predict(x_test, w_100)\n",
    "\n",
    "# Revert to original scales\n",
    "rvrt_y_train = y_train * init_std[3] + init_mean[3] \n",
    "rvrt_y_train_pred = y_train_pred * init_std[3] + init_mean[3] \n",
    "\n",
    "rvrt_y_test = y_test * init_std[3] + init_mean[3]\n",
    "rvrt_y_test_pred = y_test_pred * init_std[3] + init_mean[3]\n",
    "\n",
    "#Evaluate performance on training data\n",
    "train_mse = mean_squared_error(rvrt_y_train, rvrt_y_train_pred) #= 2*training_cost\n",
    "train_r2 = r2_score(rvrt_y_train, rvrt_y_train_pred)\n",
    "train_cost = compute_cost(y=rvrt_y_train, y_hat=rvrt_y_train_pred)\n",
    "\n",
    "#Evaluate performance on testing data\n",
    "test_mse = mean_squared_error(rvrt_y_test, rvrt_y_test_pred) #= 2*testing_cost\n",
    "test_r2 = r2_score(rvrt_y_test, rvrt_y_test_pred)\n",
    "test_cost = compute_cost(y=rvrt_y_test, y_hat=rvrt_y_test_pred)\n",
    "\n",
    "print(\"EPOCHS = \", epochs)\n",
    "print(\"w = \", w_100)\n",
    "plot_costs(costs_100)\n",
    "print(\"Train MSE, R2, Cost\\n\", train_mse, train_r2, train_cost)\n",
    "print()\n",
    "print(\"Test MSE, R2, Cost\\n\", test_mse, test_r2, test_cost)"
   ]
  },
  {
   "cell_type": "code",
   "execution_count": 17,
   "id": "ecbf56e9",
   "metadata": {
    "scrolled": true
   },
   "outputs": [
    {
     "name": "stdout",
     "output_type": "stream",
     "text": [
      "EPOCHS =  50000\n",
      "w =  [0.01107415 0.73995967 0.57436926 0.00197607]\n"
     ]
    },
    {
     "data": {
      "image/png": "[encoded data removed]",
      "text/plain": [
       "<Figure size 1080x360 with 1 Axes>"
      ]
     },
     "metadata": {
      "needs_background": "light"
     },
     "output_type": "display_data"
    },
    {
     "name": "stdout",
     "output_type": "stream",
     "text": [
      "Train MSE, R2, Cost\n",
      " 2.0960037699591263 0.9253598010799855 1.0480018849795631\n",
      "\n",
      "Test MSE, R2, Cost\n",
      " 5.051713773841108 0.7857809442014626 2.525856886920554\n"
     ]
    }
   ],
   "source": [
    "# Gradient Descent with 50000 iterations\n",
    "epochs = 50000\n",
    "init_weights = initialize_weights()\n",
    "w_50000, costs_50000 = grad_descent(w=init_weights, x=x_train, y=y_train, iterations=epochs, lr=learn_rate)\n",
    "\n",
    "# Predict Y using model in train and test datasets\n",
    "y_train_pred = predict(x_train, w_50000)\n",
    "y_test_pred = predict(x_test, w_50000)\n",
    "\n",
    "# Revert to original scales\n",
    "rvrt_y_train = y_train * init_std[3] + init_mean[3] \n",
    "rvrt_y_train_pred = y_train_pred * init_std[3] + init_mean[3] \n",
    "\n",
    "rvrt_y_test = y_test * init_std[3] + init_mean[3]\n",
    "rvrt_y_test_pred = y_test_pred * init_std[3] + init_mean[3]\n",
    "\n",
    "#Evaluate performance on training data\n",
    "train_mse = mean_squared_error(rvrt_y_train, rvrt_y_train_pred) #= 2*training_cost\n",
    "train_r2 = r2_score(rvrt_y_train, rvrt_y_train_pred)\n",
    "train_cost = compute_cost(y=rvrt_y_train, y_hat=rvrt_y_train_pred)\n",
    "\n",
    "#Evaluate performance on testing data\n",
    "test_mse = mean_squared_error(rvrt_y_test, rvrt_y_test_pred) #= 2*testing_cost\n",
    "test_r2 = r2_score(rvrt_y_test, rvrt_y_test_pred)\n",
    "test_cost = compute_cost(y=rvrt_y_test, y_hat=rvrt_y_test_pred)\n",
    "\n",
    "\n",
    "print(\"EPOCHS = \", epochs)\n",
    "print(\"w = \", w_50000)\n",
    "plot_costs(costs_50000)\n",
    "print(\"Train MSE, R2, Cost\\n\", train_mse, train_r2, train_cost)\n",
    "print()\n",
    "print(\"Test MSE, R2, Cost\\n\", test_mse, test_r2, test_cost)"
   ]
  },
  {
   "cell_type": "markdown",
   "id": "238199b4",
   "metadata": {},
   "source": [
    "## 4. Gradient Descent with varying learning rates"
   ]
  },
  {
   "cell_type": "code",
   "execution_count": 18,
   "id": "96626da7",
   "metadata": {},
   "outputs": [],
   "source": [
    "epochs = 1000"
   ]
  },
  {
   "cell_type": "code",
   "execution_count": 19,
   "id": "f19be5c7",
   "metadata": {},
   "outputs": [
    {
     "name": "stdout",
     "output_type": "stream",
     "text": [
      "LEARNING RATE =  0.01\n",
      "w =  [-5.31939217e+18 -1.40748103e+19 -3.43674713e+19 -3.51622073e+19]\n",
      "\n",
      "Train MSE, R2, Cost\n",
      " 9.821694750252762e+40 -3.497576008199758e+39 4.910847375126381e+40\n",
      "\n",
      "Test MSE, R2, Cost\n",
      " 9.635458833900148e+40 -4.0859379331270246e+39 4.817729416950074e+40\n"
     ]
    }
   ],
   "source": [
    "learn_rate = 0.01\n",
    "init_weights = initialize_weights()\n",
    "w_01, costs_01 = grad_descent(w=init_weights, x=x_train, y=y_train, iterations=epochs, lr=learn_rate)\n",
    "\n",
    "# Predict Y using model in train and test datasets\n",
    "y_train_pred = predict(x_train, w_01)\n",
    "y_test_pred = predict(x_test, w_01)\n",
    "\n",
    "# Revert to original scales\n",
    "rvrt_y_train = y_train * init_std[3] + init_mean[3] \n",
    "rvrt_y_train_pred = y_train_pred * init_std[3] + init_mean[3] \n",
    "\n",
    "rvrt_y_test = y_test * init_std[3] + init_mean[3]\n",
    "rvrt_y_test_pred = y_test_pred * init_std[3] + init_mean[3]\n",
    "\n",
    "#Evaluate performance on training data\n",
    "train_mse = mean_squared_error(rvrt_y_train, rvrt_y_train_pred) #= 2*training_cost\n",
    "train_r2 = r2_score(rvrt_y_train, rvrt_y_train_pred)\n",
    "train_cost = compute_cost(y=rvrt_y_train, y_hat=rvrt_y_train_pred)\n",
    "\n",
    "#Evaluate performance on testing data\n",
    "test_mse = mean_squared_error(rvrt_y_test, rvrt_y_test_pred) #= 2*testing_cost\n",
    "test_r2 = r2_score(rvrt_y_test, rvrt_y_test_pred)\n",
    "test_cost = compute_cost(y=rvrt_y_test, y_hat=rvrt_y_test_pred)\n",
    "\n",
    "print(\"LEARNING RATE = \", learn_rate)\n",
    "print(\"w = \", w_01)\n",
    "print()\n",
    "print(\"Train MSE, R2, Cost\\n\", train_mse, train_r2, train_cost)\n",
    "print()\n",
    "print(\"Test MSE, R2, Cost\\n\", test_mse, test_r2, test_cost)"
   ]
  },
  {
   "cell_type": "code",
   "execution_count": 20,
   "id": "f25cbdc2",
   "metadata": {},
   "outputs": [
    {
     "name": "stdout",
     "output_type": "stream",
     "text": [
      "LEARNING RATE =  0.001\n",
      "w =  [0.01107415 0.73995967 0.57436926 0.00197607]\n",
      "\n",
      "Train MSE, R2, Cost\n",
      " 2.0960037699591267 0.9253598010799855 1.0480018849795634\n",
      "\n",
      "Test MSE, R2, Cost\n",
      " 5.051713773841149 0.7857809442014609 2.5258568869205744\n"
     ]
    }
   ],
   "source": [
    "learn_rate = 0.001\n",
    "init_weights = initialize_weights()\n",
    "w_001, costs_001 = grad_descent(w=init_weights, x=x_train, y=y_train, iterations=epochs, lr=learn_rate)\n",
    "\n",
    "# Predict Y using model in train and test datasets\n",
    "y_train_pred = predict(x_train, w_001)\n",
    "y_test_pred = predict(x_test, w_001)\n",
    "\n",
    "# Revert to original scales\n",
    "rvrt_y_train = y_train * init_std[3] + init_mean[3] \n",
    "rvrt_y_train_pred = y_train_pred * init_std[3] + init_mean[3] \n",
    "\n",
    "rvrt_y_test = y_test * init_std[3] + init_mean[3]\n",
    "rvrt_y_test_pred = y_test_pred * init_std[3] + init_mean[3]\n",
    "\n",
    "#Evaluate performance on training data\n",
    "train_mse = mean_squared_error(rvrt_y_train, rvrt_y_train_pred) #= 2*training_cost\n",
    "train_r2 = r2_score(rvrt_y_train, rvrt_y_train_pred)\n",
    "train_cost = compute_cost(y=rvrt_y_train, y_hat=rvrt_y_train_pred)\n",
    "\n",
    "#Evaluate performance on testing data\n",
    "test_mse = mean_squared_error(rvrt_y_test, rvrt_y_test_pred) #= 2*testing_cost\n",
    "test_r2 = r2_score(rvrt_y_test, rvrt_y_test_pred)\n",
    "test_cost = compute_cost(y=rvrt_y_test, y_hat=rvrt_y_test_pred)\n",
    "\n",
    "\n",
    "print(\"LEARNING RATE = \", learn_rate)\n",
    "print(\"w = \", w_001)\n",
    "print()\n",
    "print(\"Train MSE, R2, Cost\\n\", train_mse, train_r2, train_cost)\n",
    "print()\n",
    "print(\"Test MSE, R2, Cost\\n\", test_mse, test_r2, test_cost)"
   ]
  },
  {
   "cell_type": "markdown",
   "id": "5589d36b",
   "metadata": {},
   "source": [
    "### 4.2 Costs Plot"
   ]
  },
  {
   "cell_type": "code",
   "execution_count": 21,
   "id": "292e1c76",
   "metadata": {
    "scrolled": true
   },
   "outputs": [
    {
     "data": {
      "image/png": "[encoded data removed]",
      "text/plain": [
       "<Figure size 1080x720 with 1 Axes>"
      ]
     },
     "metadata": {
      "needs_background": "light"
     },
     "output_type": "display_data"
    }
   ],
   "source": [
    "x = [i for i in range(len(costs))]\n",
    "plt.figure(figsize=(15, 10))\n",
    "\n",
    "plt.plot(x, costs_01, color='g', label='lr=0.01')\n",
    "plt.plot(x, costs_001, color='y', label='lr=0.001')\n",
    "plt.plot(x, costs, color='r', label='lr=0.0001') # original\n",
    "\n",
    "plt.xlabel(\"Iterations\")\n",
    "plt.ylabel(\"Costs\")\n",
    "plt.title(\"Costs over Iterations on certain Learning Rates\")\n",
    "  \n",
    "# Adding legend, which helps us recognize the curve according to it's color\n",
    "plt.legend()\n",
    "\n",
    "plt.show()"
   ]
  },
  {
   "cell_type": "code",
   "execution_count": 22,
   "id": "948f3616",
   "metadata": {},
   "outputs": [
    {
     "data": {
      "image/png": "[encoded data removed]",
      "text/plain": [
       "<Figure size 1080x720 with 1 Axes>"
      ]
     },
     "metadata": {
      "needs_background": "light"
     },
     "output_type": "display_data"
    }
   ],
   "source": [
    "plt.figure(figsize=(15, 10))\n",
    "\n",
    "plt.plot(x, costs_001, color='y', label='0.001')\n",
    "plt.plot(x, costs, color='r', label='0.0001')\n",
    "\n",
    "plt.xlabel(\"Iterations\")\n",
    "plt.ylabel(\"Costs\")\n",
    "plt.title(\"Costs over Iterations on certain Learning Rates\")\n",
    "  \n",
    "# Adding legend, which helps us recognize the curve according to it's color\n",
    "plt.legend()\n",
    "\n",
    "plt.show()"
   ]
  },
  {
   "cell_type": "markdown",
   "id": "7aa6eac9",
   "metadata": {},
   "source": [
    "## 6. Weights by Least Squares"
   ]
  },
  {
   "cell_type": "code",
   "execution_count": 23,
   "id": "40853a98",
   "metadata": {},
   "outputs": [
    {
     "name": "stdout",
     "output_type": "stream",
     "text": [
      "[0.01107608 0.73996413 0.57433511 0.00200737]\n",
      "[0.01107415 0.73995967 0.57436926 0.00197607]\n"
     ]
    }
   ],
   "source": [
    "print(w)\n",
    "print(beta)"
   ]
  }
 ],
 "metadata": {
  "kernelspec": {
   "display_name": "Python 3 (ipykernel)",
   "language": "python",
   "name": "python3"
  },
  "language_info": {
   "codemirror_mode": {
    "name": "ipython",
    "version": 3
   },
   "file_extension": ".py",
   "mimetype": "text/x-python",
   "name": "python",
   "nbconvert_exporter": "python",
   "pygments_lexer": "ipython3",
   "version": "3.9.12"
  }
 },
 "nbformat": 4,
 "nbformat_minor": 5
}
