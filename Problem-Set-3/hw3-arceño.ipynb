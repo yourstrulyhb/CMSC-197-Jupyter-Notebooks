{
 "cells": [
  {
   "cell_type": "markdown",
   "id": "0083def2",
   "metadata": {},
   "source": [
    "# CMSC 197 Machine Learning\n",
    "### Problem Set 3 - Hannah Bella C. Arceño"
   ]
  },
  {
   "cell_type": "code",
   "execution_count": 1,
   "id": "b177a8fb",
   "metadata": {},
   "outputs": [],
   "source": [
    "##### Standard Libraries #####\n",
    "import numpy as np\n",
    "import pandas as pd\n",
    "import matplotlib.pyplot as plt\n",
    "import seaborn as sns\n",
    "sns.set_style(\"whitegrid\")\n",
    "sns.set_context(\"poster\")\n",
    "\n",
    "%matplotlib inline\n",
    "\n",
    "##### For Preprocessing #####\n",
    "from sklearn.model_selection import train_test_split\n",
    "from sklearn import preprocessing\n",
    "\n",
    "##### For Validation of the Model #####\n",
    "from sklearn.metrics import r2_score, mean_absolute_error, mean_squared_error\n",
    "from sklearn.model_selection import cross_val_score"
   ]
  },
  {
   "cell_type": "markdown",
   "id": "923ed060",
   "metadata": {},
   "source": [
    "# 1. Preparing data sets"
   ]
  },
  {
   "cell_type": "code",
   "execution_count": 2,
   "id": "9d64cf48",
   "metadata": {},
   "outputs": [
    {
     "name": "stdout",
     "output_type": "stream",
     "text": [
      "         TV     Radio  Newspaper     Sales\n",
      "0  0.967425  0.979066   1.774493  1.548168\n",
      "1 -1.194379  1.080097   0.667903 -0.694304\n",
      "2 -1.512360  1.524637   1.779084 -0.905135\n",
      "3  0.051919  1.214806   1.283185  0.858177\n",
      "4  0.393196 -0.839507   1.278593 -0.215143 (200, 4)\n"
     ]
    }
   ],
   "source": [
    "#1. Load Advertising.csv dataset using pandas\n",
    "data = pd.read_csv(\"Advertising.csv\")\n",
    "data = data.drop(\"Unnamed: 0\", axis=1) # Remove unnecessary column\n",
    "\n",
    "#2. Standardize each column of the dataset\n",
    "init_mean = []\n",
    "init_std = []\n",
    "for col in data:\n",
    "    col_mean = data[col].mean() # Get column mean and std\n",
    "    col_std = data[col].std()\n",
    "    \n",
    "    init_mean.append(col_mean)\n",
    "    init_std.append(col_std)\n",
    "    \n",
    "    data[col] = (data[col] - col_mean)/col_std # Update columns with standardized values\n",
    "\n",
    "print(data.head(), data.shape)"
   ]
  },
  {
   "cell_type": "code",
   "execution_count": 3,
   "id": "a41afe0c",
   "metadata": {
    "scrolled": true
   },
   "outputs": [
    {
     "name": "stdout",
     "output_type": "stream",
     "text": [
      "x_train\n",
      "      bias        TV     Radio  Newspaper\n",
      "174     1  0.877738 -1.337931  -0.801428\n",
      "13      1 -0.577054 -1.055042  -1.072336\n",
      "39      1  0.942965  0.972330   0.066395\n",
      "182     1 -1.058102 -1.183015  -0.039213\n",
      "33      1  1.380916 -0.219845  -1.389161 (150, 4)\n",
      "\n",
      "y_train\n",
      " 174   -0.483473\n",
      "13    -0.828469\n",
      "39     1.433170\n",
      "182   -1.020133\n",
      "33     0.647346\n",
      "Name: Sales, dtype: float64 (150,)\n",
      "\n",
      "x_test\n",
      "      bias        TV     Radio  Newspaper\n",
      "173     1  0.248765 -1.088719  -0.815203\n",
      "17      1  1.564949  1.100304   1.159210\n",
      "139     1  0.440951  1.389928  -1.324877\n",
      "175     1  1.512535  1.726701   0.516378\n",
      "120     1 -0.066887  0.238166   0.718411 (50, 4)\n",
      "\n",
      "y_test\n",
      " 173   -0.445140\n",
      "17     1.988996\n",
      "139    1.279838\n",
      "175    2.487323\n",
      "120    0.283184\n",
      "Name: Sales, dtype: float64 (50,)\n"
     ]
    }
   ],
   "source": [
    "#3. Add an extra column composing of all ones to X\n",
    "x_data = data.drop(\"Sales\", axis=1) # Separate X and Y data\n",
    "x_data.insert(0,'bias',[1]*len(x_data))\n",
    "\n",
    "y_data = data[\"Sales\"]\n",
    "\n",
    "#4. Divide the dataset into training and testing, with 0.85 and 0.25 ratio, respectively.\n",
    "x_train, x_test, y_train, y_test = train_test_split(x_data, y_data, train_size=0.75, test_size=0.25)\n",
    "# Used 0.75 as 0.85 causes error\n",
    "\n",
    "print(\"x_train\\n\", x_train.head(), x_train.shape) \n",
    "print(\"\\ny_train\\n\", y_train.head(), y_train.shape) \n",
    "print(\"\\nx_test\\n\", x_test.head(), x_test.shape) \n",
    "print(\"\\ny_test\\n\", y_test.head(), y_test.shape) "
   ]
  },
  {
   "cell_type": "markdown",
   "id": "86390b5f",
   "metadata": {},
   "source": [
    "# 2. Building the model"
   ]
  },
  {
   "cell_type": "markdown",
   "id": "2db181ff",
   "metadata": {},
   "source": [
    "## 2.1 Gradient Descent Functions"
   ]
  },
  {
   "cell_type": "code",
   "execution_count": 4,
   "id": "0bff70fc",
   "metadata": {},
   "outputs": [],
   "source": [
    "#5. Fit the model on the training set.\n",
    "# Optimize the model using the  training set, and not including the test set\n",
    "\n",
    "def initialize_weights():\n",
    "    init_w = np.array([0.0, 0.0, 0.0, 0.0])\n",
    "    return init_w\n",
    "\n",
    "# GRADIENT DESCENT SUB-FUNCTIONS\n",
    "def predict(x, theta):\n",
    "    y_predict = np.dot(x, theta)\n",
    "    return y_predict\n",
    "\n",
    "def compute_cost(y, y_hat):\n",
    "    m = y.size\n",
    "    SSE = np.sum((y_hat - y)**2)\n",
    "    return SSE/(2*m)\n",
    "    \n",
    "def compute_gradient(x, y, y_hat):\n",
    "    w = np.dot(x.T, (y_hat - y))\n",
    "    return w\n",
    "\n",
    "def update_weights(w, lr, gradient):\n",
    "    update_w = w\n",
    "    for i in range(len(w)):\n",
    "        update_w[i] = w[i] - (lr * gradient[i])\n",
    "    \n",
    "    return update_w\n",
    "\n",
    "### GRADIENT DESCENT\n",
    "def grad_descent(w, x, y, iterations=1000, lr=0.0001):\n",
    "    \n",
    "    m = y.size\n",
    "    costs = []\n",
    "    for _ in range(iterations):\n",
    "        p = predict(x=x, theta=w)\n",
    "        cost = compute_cost(y=y, y_hat=p)\n",
    "        costs.append(cost)\n",
    "        gradients = compute_gradient(x=x, y=y, y_hat=p)\n",
    "        w = update_weights(w=w, lr=lr, gradient=gradients)\n",
    "        \n",
    "    return w, costs\n",
    "    \n",
    "\n",
    "### Visualize costs over iterations\n",
    "def plot_costs(costs):\n",
    "    x = [i for i in range(len(costs))]\n",
    "    plt.figure(figsize=(15, 5))\n",
    "    plt.scatter(x=x, y=costs, linewidths=0.5)\n",
    "    plt.show()\n"
   ]
  },
  {
   "cell_type": "markdown",
   "id": "00f2cf06",
   "metadata": {},
   "source": [
    "## 2.2 Gradient Descent with Training Dataset"
   ]
  },
  {
   "cell_type": "code",
   "execution_count": 5,
   "id": "b42f76be",
   "metadata": {
    "scrolled": true
   },
   "outputs": [
    {
     "data": {
      "image/png": "[encoded data removed]",
      "text/plain": [
       "<Figure size 1080x360 with 1 Axes>"
      ]
     },
     "metadata": {
      "needs_background": "light"
     },
     "output_type": "display_data"
    }
   ],
   "source": [
    "# Define number of iterations and learning rate\n",
    "epochs = 1000\n",
    "learn_rate = 0.0001\n",
    "\n",
    "init_weights = initialize_weights()\n",
    "\n",
    "w, costs = grad_descent(w=init_weights, x=x_train, y=y_train, iterations=epochs, lr=learn_rate)\n",
    "# Returned w are optimized weights\n",
    "\n",
    "plot_costs(costs)"
   ]
  },
  {
   "cell_type": "markdown",
   "id": "294cb924",
   "metadata": {},
   "source": [
    "\n",
    "# 3. Predicting Y values and Evaluating Performance"
   ]
  },
  {
   "cell_type": "markdown",
   "id": "934cfa26",
   "metadata": {},
   "source": [
    "## 3.1 Predicting Y on Train Set"
   ]
  },
  {
   "cell_type": "code",
   "execution_count": 6,
   "id": "b9936771",
   "metadata": {},
   "outputs": [
    {
     "data": {
      "text/plain": [
       "array([-0.05751833, -1.00786243,  1.17401784, -1.41495928,  0.87427331,\n",
       "       -1.23450941,  0.13661474, -0.8494013 ,  1.36430934, -0.26817744,\n",
       "        0.139259  , -1.30580073, -0.090241  , -1.81178365,  0.18004378,\n",
       "        0.56968099,  0.58828225, -0.83075296,  0.58590022, -0.59578973,\n",
       "       -1.68699159,  0.24075408,  0.38664782,  0.70599343, -0.66894361,\n",
       "        0.51216955, -1.0916114 ,  0.42704652, -0.89340443,  0.27468775,\n",
       "        0.82690859,  0.19493563,  0.68095102, -1.97492314, -0.74922508,\n",
       "       -1.1357585 ,  0.21705253,  0.76657656, -0.5296083 , -1.25360817,\n",
       "       -0.48571044, -0.74913841,  1.38170878, -0.37384582, -1.39081126,\n",
       "        0.84705035, -0.42675141, -0.81385007,  1.83185599,  0.15643122,\n",
       "       -1.80791194,  1.39657675, -0.80661304, -1.06932855, -0.94000126,\n",
       "       -0.777374  , -0.09412648, -0.35510033, -0.91729952, -1.27694847,\n",
       "        0.72197779,  1.12626526, -1.20333775, -0.43484157,  0.01716289,\n",
       "        1.88350643, -1.12113826,  1.2157999 ,  0.8922087 ,  0.29197448,\n",
       "       -1.20034419,  0.22185149, -1.42689835, -1.04964023, -0.7531063 ,\n",
       "       -1.79597518, -0.27592622,  0.46384397,  0.55808092,  0.06049781,\n",
       "       -0.72835631, -1.00823119,  1.03624262, -0.25760998, -0.34542413,\n",
       "        0.51291982, -0.70074675, -1.52884925,  0.11540196,  0.39963404,\n",
       "        1.22949912,  0.32193644, -1.17996488,  1.22483792,  0.16952263,\n",
       "       -0.01222323, -0.51535651,  0.50277245, -0.40183158, -0.01197016,\n",
       "       -0.40620052,  0.55731086,  0.24683013, -1.16031802,  0.23986629,\n",
       "       -0.07566552, -1.41738504,  0.41469602, -0.6900256 , -0.23453267,\n",
       "        0.60410542, -0.00942636,  1.08859349, -0.12728105, -0.19571698,\n",
       "        1.69968492, -1.12786024,  1.43374861,  1.02437856,  0.96234971,\n",
       "       -0.98938406,  1.2837457 ,  1.42843339,  1.29441093,  0.41868169,\n",
       "        1.0873082 , -0.27542203,  0.5005831 , -0.39794003, -0.66797479,\n",
       "        0.22612447, -1.41588335, -0.36079943,  0.43534546, -0.32438299,\n",
       "       -0.32258206,  0.98727296,  1.6523058 , -1.32956087,  0.96977821,\n",
       "        0.83892037, -0.76086754, -0.82745892,  1.24670682,  0.83083008,\n",
       "       -0.93003005,  0.4047685 ,  0.81319703, -0.99440235,  1.34065763])"
      ]
     },
     "execution_count": 6,
     "metadata": {},
     "output_type": "execute_result"
    }
   ],
   "source": [
    "#6. Predict the quantitative response y on the train set. Evaluate performance. \n",
    "\n",
    "y_train_pred = predict(x_train, w)\n",
    "rvrt_y_train_pred = y_train_pred * init_std[3] + init_mean[3] # Reverted to original scale\n",
    "\n",
    "y_train_pred"
   ]
  },
  {
   "cell_type": "code",
   "execution_count": 7,
   "id": "b6d207c1",
   "metadata": {},
   "outputs": [
    {
     "name": "stdout",
     "output_type": "stream",
     "text": [
      "Train MSE, R2, Cost\n",
      " 0.10900307764748977 0.8837873336309983 0.05450153882374489\n"
     ]
    }
   ],
   "source": [
    "#Evaluate performance on training data\n",
    "train_cost = compute_cost(y=y_train, y_hat=y_train_pred)\n",
    "train_mse = mean_squared_error(y_train, y_train_pred) #= 2*training_cost\n",
    "train_r2 = r2_score(y_train, y_train_pred)\n",
    "\n",
    "print(\"Train MSE, R2, Cost\\n\", train_mse, train_r2, train_cost)"
   ]
  },
  {
   "cell_type": "markdown",
   "id": "91d70059",
   "metadata": {},
   "source": [
    "\n",
    "\n",
    "### 3.2 Predicting Y on Test Set"
   ]
  },
  {
   "cell_type": "code",
   "execution_count": 8,
   "id": "0294202b",
   "metadata": {},
   "outputs": [
    {
     "data": {
      "text/plain": [
       "array([-4.02478214e-01,  1.72281948e+00,  9.85722827e-01,  1.98930790e+00,\n",
       "        5.82249129e-02, -8.37909385e-01, -1.57097659e+00,  5.61883221e-01,\n",
       "       -9.75236338e-01, -1.32719270e-01, -1.65240625e+00, -7.75631026e-01,\n",
       "        1.04062353e-01,  1.31005670e-01, -6.53334755e-01, -5.63777809e-01,\n",
       "       -4.16897940e-01,  1.46913198e+00, -4.09388207e-01, -7.49795375e-01,\n",
       "        7.64737981e-01,  1.77649760e+00, -3.20558568e-01, -6.43639587e-02,\n",
       "        1.16084594e+00,  2.18235187e-02,  2.00655007e-01, -1.50645856e+00,\n",
       "        1.70091010e+00,  6.85584086e-01, -7.43300783e-01,  1.90515612e+00,\n",
       "        7.52331600e-01,  1.29676822e+00,  3.03928795e-01, -1.97433311e+00,\n",
       "       -2.47911080e-01,  1.21505104e+00,  7.26238499e-01,  5.35111474e-01,\n",
       "       -5.08169437e-01,  1.84542268e-03, -8.09864490e-01,  6.50494321e-01,\n",
       "       -6.62086052e-01,  9.60030777e-01, -1.11182973e+00,  1.38722414e-01,\n",
       "       -2.12484655e-01, -1.17553806e-01])"
      ]
     },
     "execution_count": 8,
     "metadata": {},
     "output_type": "execute_result"
    }
   ],
   "source": [
    "#7. Predict the quantitative response y on the test set. Evaluate performance.\n",
    "y_test_pred = predict(x_test, w)\n",
    "rvrt_y_test_pred = y_test_pred * init_std[3] + init_mean[3] # Reverted to original scale\n",
    "\n",
    "y_test_pred"
   ]
  },
  {
   "cell_type": "code",
   "execution_count": 9,
   "id": "b5e8a08d",
   "metadata": {},
   "outputs": [
    {
     "name": "stdout",
     "output_type": "stream",
     "text": [
      "Test MSE, R2, Cost\n",
      " 0.08833646957849745 0.9211468373988289 0.04416823478924872\n"
     ]
    }
   ],
   "source": [
    "#Evaluate performance on test data\n",
    "# Compute error, cost, and r2\n",
    "test_cost = compute_cost(y=y_test, y_hat=y_test_pred)\n",
    "test_mse = mean_squared_error(y_test, y_test_pred) #= 2*testing_cost\n",
    "test_r2 = r2_score(y_test, y_test_pred)\n",
    "\n",
    "print(\"Test MSE, R2, Cost\\n\", test_mse, test_r2, test_cost)"
   ]
  },
  {
   "cell_type": "markdown",
   "id": "f7b92c33",
   "metadata": {},
   "source": [
    "## Reverting y_train and y_test to initial scale"
   ]
  },
  {
   "cell_type": "code",
   "execution_count": 10,
   "id": "eee6a037",
   "metadata": {},
   "outputs": [],
   "source": [
    "rvrt_y_train = y_train * init_std[3] + init_mean[3] \n",
    "\n",
    "rvrt_y_test = y_test * init_std[3] + init_mean[3]"
   ]
  },
  {
   "cell_type": "markdown",
   "id": "f9390e33",
   "metadata": {},
   "source": [
    "# ***\n",
    "# For Questions"
   ]
  },
  {
   "cell_type": "code",
   "execution_count": 11,
   "id": "7dcdd77c",
   "metadata": {},
   "outputs": [
    {
     "data": {
      "text/plain": [
       "array([-0.02436415,  0.74838179,  0.50554124,  0.0170421 ])"
      ]
     },
     "execution_count": 11,
     "metadata": {},
     "output_type": "execute_result"
    }
   ],
   "source": [
    "# Optimal weights\n",
    "w\n",
    "\n",
    "## array([ 0.02540077,  0.78065164,  0.52740914, -0.04056068])\n",
    "# array([ 0.01492253,  0.78605191,  0.51983516, -0.00777967])\n",
    "# array([-0.00788591,  0.73799755,  0.52995092, -0.00991435])"
   ]
  },
  {
   "cell_type": "code",
   "execution_count": 12,
   "id": "e67931cb",
   "metadata": {
    "scrolled": true
   },
   "outputs": [
    {
     "data": {
      "image/png": "[encoded data removed]",
      "text/plain": [
       "<Figure size 432x288 with 1 Axes>"
      ]
     },
     "metadata": {
      "needs_background": "light"
     },
     "output_type": "display_data"
    }
   ],
   "source": [
    "# Scatter plot for y and y_hat for train and test datasets\n",
    "plt.scatter(y_train, y_train_pred)\n",
    "plt.show()"
   ]
  },
  {
   "cell_type": "code",
   "execution_count": 13,
   "id": "4ea0b931",
   "metadata": {},
   "outputs": [
    {
     "data": {
      "image/png": "[encoded data removed]",
      "text/plain": [
       "<Figure size 432x288 with 1 Axes>"
      ]
     },
     "metadata": {
      "needs_background": "light"
     },
     "output_type": "display_data"
    }
   ],
   "source": [
    "plt.scatter(y_test, y_test_pred)\n",
    "plt.show()"
   ]
  },
  {
   "cell_type": "code",
   "execution_count": 14,
   "id": "9ec89ca4",
   "metadata": {},
   "outputs": [
    {
     "name": "stdout",
     "output_type": "stream",
     "text": [
      "0.8837873336309983 0.9211468373988289\n"
     ]
    }
   ],
   "source": [
    "#R2 Score\n",
    "train_r2 = r2_score(y_train, y_train_pred)\n",
    "test_r2 = r2_score(y_test, y_test_pred)\n",
    "\n",
    "print(train_r2, test_r2)"
   ]
  },
  {
   "cell_type": "markdown",
   "id": "28656fdb",
   "metadata": {},
   "source": [
    "## Gradient Descent with varying number of iterations"
   ]
  },
  {
   "cell_type": "code",
   "execution_count": 15,
   "id": "751fb01b",
   "metadata": {},
   "outputs": [],
   "source": [
    "learn_rate = 0.0001"
   ]
  },
  {
   "cell_type": "code",
   "execution_count": 16,
   "id": "aa061212",
   "metadata": {},
   "outputs": [
    {
     "name": "stdout",
     "output_type": "stream",
     "text": [
      "EPOCHS =  100\n",
      "w =  [-0.03149769  0.58966616  0.36404246  0.09750119]\n"
     ]
    },
    {
     "data": {
      "image/png": "[encoded data removed]",
      "text/plain": [
       "<Figure size 1080x360 with 1 Axes>"
      ]
     },
     "metadata": {
      "needs_background": "light"
     },
     "output_type": "display_data"
    },
    {
     "name": "stdout",
     "output_type": "stream",
     "text": [
      "Train MSE, R2, Cost\n",
      " 0.15032035485865558 0.8397372842613385 0.07516017742932779\n",
      "\n",
      "Test MSE, R2, Cost\n",
      " 0.18328533619969142 0.8363911475438612 0.09164266809984571\n"
     ]
    }
   ],
   "source": [
    "# Gradient Descent with 100 iterations\n",
    "epochs = 100\n",
    "init_weights = initialize_weights()\n",
    "w, costs_100 = grad_descent(w=init_weights, x=x_train, y=y_train, iterations=epochs, lr=learn_rate)\n",
    "\n",
    "# Predict Y using model in train and test datasets\n",
    "y_train_pred = predict(x_train, w)\n",
    "y_test_pred = predict(x_test, w)\n",
    "# Compute error, cost, and r2\n",
    "train_cost = compute_cost(y=y_train, y_hat=y_train_pred)\n",
    "train_mse = mean_squared_error(y_train, y_train_pred) #= 2*training_cost\n",
    "train_r2 = r2_score(y_train, y_train_pred)\n",
    "# Compute error, cost, and r2\n",
    "train_cost = compute_cost(y=y_train, y_hat=y_train_pred)\n",
    "train_mse = mean_squared_error(y_train, y_train_pred) #= 2*training_cost\n",
    "train_r2 = r2_score(y_train, y_train_pred)\n",
    "\n",
    "test_cost = compute_cost(y=y_test, y_hat=y_test_pred)\n",
    "test_mse = mean_squared_error(y_test, y_test_pred) #= 2*testing_cost\n",
    "test_r2 = r2_score(y_test, y_test_pred)\n",
    "\n",
    "print(\"EPOCHS = \", epochs)\n",
    "print(\"w = \", w)\n",
    "plot_costs(costs)\n",
    "print(\"Train MSE, R2, Cost\\n\", train_mse, train_r2, train_cost)\n",
    "print()\n",
    "print(\"Test MSE, R2, Cost\\n\", test_mse, test_r2, test_cost)"
   ]
  },
  {
   "cell_type": "code",
   "execution_count": 17,
   "id": "ecbf56e9",
   "metadata": {
    "scrolled": true
   },
   "outputs": [
    {
     "name": "stdout",
     "output_type": "stream",
     "text": [
      "EPOCHS =  50000\n",
      "w =  [-0.02435784  0.74838233  0.50563667  0.01694618]\n"
     ]
    },
    {
     "data": {
      "image/png": "[encoded data removed]",
      "text/plain": [
       "<Figure size 1080x360 with 1 Axes>"
      ]
     },
     "metadata": {
      "needs_background": "light"
     },
     "output_type": "display_data"
    },
    {
     "name": "stdout",
     "output_type": "stream",
     "text": [
      "Train MSE, R2, Cost\n",
      " 0.10900306809012164 0.8837873438205017 0.05450153404506082\n",
      "\n",
      "Test MSE, R2, Cost\n",
      " 0.08830959354991759 0.9211708281680071 0.044154796774958795\n"
     ]
    }
   ],
   "source": [
    "# Gradient Descent with 50000 iterations\n",
    "epochs = 50000\n",
    "init_weights = initialize_weights()\n",
    "w, costs_50000 = grad_descent(w=init_weights, x=x_train, y=y_train, iterations=epochs, lr=learn_rate)\n",
    "\n",
    "# Predict Y using model in train and test datasets\n",
    "y_train_pred = predict(x_train, w)\n",
    "y_test_pred = predict(x_test, w)\n",
    "\n",
    "# Compute error, cost, and r2\n",
    "train_cost = compute_cost(y=y_train, y_hat=y_train_pred)\n",
    "train_mse = mean_squared_error(y_train, y_train_pred) #= 2*training_cost\n",
    "train_r2 = r2_score(y_train, y_train_pred)\n",
    "\n",
    "test_cost = compute_cost(y=y_test, y_hat=y_test_pred)\n",
    "test_mse = mean_squared_error(y_test, y_test_pred) #= 2*testing_cost\n",
    "test_r2 = r2_score(y_test, y_test_pred)\n",
    "\n",
    "print(\"EPOCHS = \", epochs)\n",
    "print(\"w = \", w)\n",
    "plot_costs(costs)\n",
    "print(\"Train MSE, R2, Cost\\n\", train_mse, train_r2, train_cost)\n",
    "print()\n",
    "print(\"Test MSE, R2, Cost\\n\", test_mse, test_r2, test_cost)"
   ]
  },
  {
   "cell_type": "markdown",
   "id": "238199b4",
   "metadata": {},
   "source": [
    "## Gradient Descent with varying learning rates"
   ]
  },
  {
   "cell_type": "code",
   "execution_count": 18,
   "id": "96626da7",
   "metadata": {},
   "outputs": [],
   "source": [
    "epochs = 1000"
   ]
  },
  {
   "cell_type": "code",
   "execution_count": 19,
   "id": "f19be5c7",
   "metadata": {},
   "outputs": [
    {
     "name": "stdout",
     "output_type": "stream",
     "text": [
      "LEARNING RATE =  0.01\n",
      "w =  [ 9.60756091e+47 -4.14462843e+46 -7.84704034e+48 -7.74418159e+48]\n",
      "Train MSE, R2, Cost\n",
      " 1.7314839643728073e+98 -1.8460063020024965e+98 8.657419821864036e+97\n",
      "\n",
      "Test MSE, R2, Cost\n",
      " 1.3959030991562044e+98 -1.2460467865475583e+98 6.979515495781022e+97\n"
     ]
    }
   ],
   "source": [
    "learn_rate = 0.01\n",
    "init_weights = initialize_weights()\n",
    "w, costs_01 = grad_descent(w=init_weights, x=x_train, y=y_train, iterations=epochs, lr=learn_rate)\n",
    "\n",
    "# Predict Y using model in train and test datasets\n",
    "y_train_pred = predict(x_train, w)\n",
    "y_test_pred = predict(x_test, w)\n",
    "\n",
    "# Compute error, cost, and r2\n",
    "train_cost = compute_cost(y=y_train, y_hat=y_train_pred)\n",
    "train_mse = mean_squared_error(y_train, y_train_pred) #= 2*training_cost\n",
    "train_r2 = r2_score(y_train, y_train_pred)\n",
    "\n",
    "test_cost = compute_cost(y=y_test, y_hat=y_test_pred)\n",
    "test_mse = mean_squared_error(y_test, y_test_pred) #= 2*testing_cost\n",
    "test_r2 = r2_score(y_test, y_test_pred)\n",
    "\n",
    "print(\"LEARNING RATE = \", learn_rate)\n",
    "print(\"w = \", w)\n",
    "print(\"Train MSE, R2, Cost\\n\", train_mse, train_r2, train_cost)\n",
    "print()\n",
    "print(\"Test MSE, R2, Cost\\n\", test_mse, test_r2, test_cost)"
   ]
  },
  {
   "cell_type": "code",
   "execution_count": 20,
   "id": "f25cbdc2",
   "metadata": {},
   "outputs": [
    {
     "name": "stdout",
     "output_type": "stream",
     "text": [
      "LEARNING RATE =  0.001\n",
      "w =  [-0.02435784  0.74838233  0.50563667  0.01694618]\n",
      "Train MSE, R2, Cost\n",
      " 0.10900306809012164 0.8837873438205017 0.05450153404506082\n",
      "\n",
      "Test MSE, R2, Cost\n",
      " 0.0883095935499164 0.9211708281680082 0.0441547967749582\n"
     ]
    }
   ],
   "source": [
    "learn_rate = 0.001\n",
    "init_weights = initialize_weights()\n",
    "w, costs_001 = grad_descent(w=init_weights, x=x_train, y=y_train, iterations=epochs, lr=learn_rate)\n",
    "\n",
    "# Predict Y using model in train and test datasets\n",
    "y_train_pred = predict(x_train, w)\n",
    "y_test_pred = predict(x_test, w)\n",
    "\n",
    "# Compute error, cost, and r2\n",
    "train_cost = compute_cost(y=y_train, y_hat=y_train_pred)\n",
    "train_mse = mean_squared_error(y_train, y_train_pred) #= 2*training_cost\n",
    "train_r2 = r2_score(y_train, y_train_pred)\n",
    "\n",
    "test_cost = compute_cost(y=y_test, y_hat=y_test_pred)\n",
    "test_mse = mean_squared_error(y_test, y_test_pred) #= 2*testing_cost\n",
    "test_r2 = r2_score(y_test, y_test_pred)\n",
    "\n",
    "print(\"LEARNING RATE = \", learn_rate)\n",
    "print(\"w = \", w)\n",
    "print(\"Train MSE, R2, Cost\\n\", train_mse, train_r2, train_cost)\n",
    "print()\n",
    "print(\"Test MSE, R2, Cost\\n\", test_mse, test_r2, test_cost)"
   ]
  },
  {
   "cell_type": "markdown",
   "id": "5589d36b",
   "metadata": {},
   "source": [
    "## Plot costs"
   ]
  },
  {
   "cell_type": "code",
   "execution_count": 21,
   "id": "292e1c76",
   "metadata": {
    "scrolled": true
   },
   "outputs": [
    {
     "data": {
      "image/png": "[encoded data removed]",
      "text/plain": [
       "<Figure size 1080x720 with 1 Axes>"
      ]
     },
     "metadata": {
      "needs_background": "light"
     },
     "output_type": "display_data"
    }
   ],
   "source": [
    "x = [i for i in range(len(costs))]\n",
    "plt.figure(figsize=(15, 10))\n",
    "\n",
    "plt.plot(x, costs_01, color='g', label='0.01')\n",
    "plt.plot(x, costs_001, color='y', label='0.001')\n",
    "plt.plot(x, costs, color='r', label='0.0001')\n",
    "\n",
    "plt.xlabel(\"Iterations\")\n",
    "plt.ylabel(\"Costs\")\n",
    "plt.title(\"Costs over Iterations on certain Learning Rates\")\n",
    "  \n",
    "# Adding legend, which helps us recognize the curve according to it's color\n",
    "plt.legend()\n",
    "\n",
    "plt.show()"
   ]
  },
  {
   "cell_type": "code",
   "execution_count": 22,
   "id": "948f3616",
   "metadata": {},
   "outputs": [
    {
     "data": {
      "image/png": "[encoded data removed]",
      "text/plain": [
       "<Figure size 1080x720 with 1 Axes>"
      ]
     },
     "metadata": {
      "needs_background": "light"
     },
     "output_type": "display_data"
    }
   ],
   "source": [
    "plt.figure(figsize=(15, 10))\n",
    "\n",
    "plt.plot(x, costs_001, color='y', label='0.001')\n",
    "plt.plot(x, costs, color='r', label='0.0001')\n",
    "\n",
    "plt.xlabel(\"Iterations\")\n",
    "plt.ylabel(\"Costs\")\n",
    "plt.title(\"Costs over Iterations on certain Learning Rates\")\n",
    "  \n",
    "# Adding legend, which helps us recognize the curve according to it's color\n",
    "plt.legend()\n",
    "\n",
    "plt.show()"
   ]
  },
  {
   "cell_type": "code",
   "execution_count": 24,
   "id": "40853a98",
   "metadata": {},
   "outputs": [
    {
     "name": "stdout",
     "output_type": "stream",
     "text": [
      "[-0.02435784  0.74838233  0.50563667  0.01694618]\n",
      "[-0.02435784  0.74838233  0.50563667  0.01694618]\n"
     ]
    }
   ],
   "source": [
    "# Finding weights by least squares method\n",
    "beta = np.dot(np.dot(np.linalg.inv(np.dot(x_train.T,x_train)),x_train.T),y_train)\n",
    "print(w)\n",
    "print(beta)"
   ]
  }
 ],
 "metadata": {
  "kernelspec": {
   "display_name": "Python 3 (ipykernel)",
   "language": "python",
   "name": "python3"
  },
  "language_info": {
   "codemirror_mode": {
    "name": "ipython",
    "version": 3
   },
   "file_extension": ".py",
   "mimetype": "text/x-python",
   "name": "python",
   "nbconvert_exporter": "python",
   "pygments_lexer": "ipython3",
   "version": "3.9.12"
  }
 },
 "nbformat": 4,
 "nbformat_minor": 5
}
